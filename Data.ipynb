{
 "cells": [
  {
   "cell_type": "code",
   "execution_count": 1,
   "metadata": {},
   "outputs": [
    {
     "name": "stdout",
     "output_type": "stream",
     "text": [
      "Earnings Call Q1\n",
      "Earnings Call Q2\n",
      "Earnings Call Q3\n",
      "Earnings Call Q4\n"
     ]
    }
   ],
   "source": [
    "from earnings_calls_src import get_earnings_all_docs\n",
    "\n",
    "d = get_earnings_all_docs(\"GOOG\",\"2023\")"
   ]
  },
  {
   "cell_type": "code",
   "execution_count": 1,
   "metadata": {},
   "outputs": [
    {
     "name": "stdout",
     "output_type": "stream",
     "text": [
      "Started Scraping\n",
      "Scraped\n",
      "Started Extracting\n",
      "Extracted\n",
      "{'accession_number': '000165204424000053', 'form_name': '10-Q1', 'filing_date': '2024-04-26', 'report_date': '2024-03-31'}\n",
      "{'accession_number': '000165204424000053', 'form_name': '10-Q1', 'filing_date': '2024-04-26', 'report_date': '2024-03-31', 'section_name': 'FINANCIAL_STATEMENTS'}\n",
      "{'accession_number': '000165204424000053', 'form_name': '10-Q1', 'filing_date': '2024-04-26', 'report_date': '2024-03-31', 'section_name': 'MANAGEMENT_DISCUSSION'}\n",
      "{'accession_number': '000165204424000053', 'form_name': '10-Q1', 'filing_date': '2024-04-26', 'report_date': '2024-03-31', 'section_name': 'MARKET_RISK_DISCLOSURES'}\n",
      "{'accession_number': '000165204424000053', 'form_name': '10-Q1', 'filing_date': '2024-04-26', 'report_date': '2024-03-31', 'section_name': 'CONTROLS_AND_PROCEDURES'}\n",
      "{'accession_number': '000165204424000053', 'form_name': '10-Q1', 'filing_date': '2024-04-26', 'report_date': '2024-03-31', 'section_name': 'LEGAL_PROCEEDINGS'}\n",
      "{'accession_number': '000165204424000053', 'form_name': '10-Q1', 'filing_date': '2024-04-26', 'report_date': '2024-03-31', 'section_name': 'RISK_FACTORS'}\n",
      "{'accession_number': '000165204424000053', 'form_name': '10-Q1', 'filing_date': '2024-04-26', 'report_date': '2024-03-31', 'section_name': 'USE_OF_PROCEEDS'}\n",
      "{'accession_number': '000165204424000053', 'form_name': '10-Q1', 'filing_date': '2024-04-26', 'report_date': '2024-03-31', 'section_name': 'DEFAULTS'}\n",
      "{'accession_number': '000165204424000053', 'form_name': '10-Q1', 'filing_date': '2024-04-26', 'report_date': '2024-03-31', 'section_name': 'MINE_SAFETY'}\n"
     ]
    }
   ],
   "source": [
    "from filings_src import sec_main\n",
    "\n",
    "sec_data = sec_main(\"GOOG\",\"2024\")"
   ]
  },
  {
   "cell_type": "code",
   "execution_count": 4,
   "metadata": {},
   "outputs": [],
   "source": [
    "from marker_sec_src import sec_save_pdfs"
   ]
  },
  {
   "cell_type": "code",
   "execution_count": 5,
   "metadata": {},
   "outputs": [
    {
     "data": {
      "text/plain": [
       "([['https://www.sec.gov/Archives/edgar/data/1652044/000165204424000053/goog-20240331.htm',\n",
       "   '10-Q1']],\n",
       " {'goog-20240331-10-Q1.pdf': {'languages': ['English']}},\n",
       " 'output/SEC_EDGAR_FILINGS/GOOG-2024')"
      ]
     },
     "execution_count": 5,
     "metadata": {},
     "output_type": "execute_result"
    }
   ],
   "source": [
    "sec_save_pdfs(\"GOOG\",\"2024\")"
   ]
  },
  {
   "cell_type": "code",
   "execution_count": null,
   "metadata": {},
   "outputs": [],
   "source": []
  }
 ],
 "metadata": {
  "kernelspec": {
   "display_name": ".venv",
   "language": "python",
   "name": "python3"
  },
  "language_info": {
   "codemirror_mode": {
    "name": "ipython",
    "version": 3
   },
   "file_extension": ".py",
   "mimetype": "text/x-python",
   "name": "python",
   "nbconvert_exporter": "python",
   "pygments_lexer": "ipython3",
   "version": "3.10.12"
  }
 },
 "nbformat": 4,
 "nbformat_minor": 2
}
